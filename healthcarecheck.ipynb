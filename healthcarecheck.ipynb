{
 "cells": [
  {
   "cell_type": "code",
   "execution_count": 16,
   "metadata": {},
   "outputs": [
    {
     "name": "stderr",
     "output_type": "stream",
     "text": [
      "/var/folders/pw/xkpd454x6_ddjhgkzcvrngc40000gn/T/ipykernel_2129/2310981946.py:6: DtypeWarning: Columns (4,7,49,52,53,55,58,64,68,70,74,75,93,109,113,119,135,145,147,153,173,179,339,344,346,362,363,364,365,366,368,370,377,378,379,380,381,382,383,385,386,387,397,398,399,402,403,405,406,407,408,411,412,413,416,417,418,419,420,421,422,423,424,425,426,427,428,429,430,431,432,433,435,436,448,450,456,462,463) have mixed types. Specify dtype option on import or set low_memory=False.\n",
      "  df = pd.read_csv(csv_path)\n"
     ]
    },
    {
     "name": "stdout",
     "output_type": "stream",
     "text": [
      "Number of people with healthcare: 2682\n",
      "Number of people without healthcare: 6597\n"
     ]
    }
   ],
   "source": [
    "import pandas as pd\n",
    "\n",
    "csv_path = 'V1A.CSV'  # Replace with the correct file path if needed\n",
    "\n",
    "# Read the CSV file\n",
    "df = pd.read_csv(csv_path)\n",
    "\n",
    "# Specify the columns to check for healthcare status\n",
    "healthcare_columns = ['V1AF15a', 'V1AF15b', 'V1AF15c', 'V1AF15d', 'V1AF15e', 'V1AF15e_SP', 'V1AF15f', 'V1AF15g']\n",
    "\n",
    "# Initialize counters\n",
    "has_healthcare_count = 0\n",
    "no_healthcare_count = 0\n",
    "\n",
    "# Iterate over rows and check healthcare status\n",
    "for index, row in df.iterrows():\n",
    "    for column in healthcare_columns:\n",
    "        if row[column] == 1:\n",
    "            has_healthcare_count += 1\n",
    "            break\n",
    "        elif row[column] == 0:\n",
    "            no_healthcare_count += 1\n",
    "            break\n",
    "\n",
    "# Print the counts\n",
    "print(f\"Number of people with healthcare: {has_healthcare_count}\")\n",
    "print(f\"Number of people without healthcare: {no_healthcare_count}\")\n"
   ]
  }
 ],
 "metadata": {
  "interpreter": {
   "hash": "aee8b7b246df8f9039afb4144a1f6fd8d2ca17a180786b69acc140d282b71a49"
  },
  "kernelspec": {
   "display_name": "Python 3.11.0 64-bit",
   "language": "python",
   "name": "python3"
  },
  "language_info": {
   "name": "python",
   "version": "3.11.0"
  },
  "orig_nbformat": 4
 },
 "nbformat": 4,
 "nbformat_minor": 2
}
