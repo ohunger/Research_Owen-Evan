{
 "cells": [
  {
   "cell_type": "code",
   "execution_count": 10,
   "metadata": {},
   "outputs": [
    {
     "name": "stderr",
     "output_type": "stream",
     "text": [
      "C:\\Users\\Masuri\\AppData\\Local\\Temp\\ipykernel_10064\\2697844284.py:12: DtypeWarning: Columns (15,337,353,359,361,363,401,405,437,484,544,560) have mixed types. Specify dtype option on import or set low_memory=False.\n",
      "  df = pd.read_csv(csv)\n"
     ]
    },
    {
     "data": {
      "text/plain": [
       "'\\nX = df\\nX.drop(columns=[\"PublicID\"], inplace=True)  # dropping non int columns\\nX = X.fillna(0)  # Have to double check this\\ndata = X\\nwcss = []  # sum of square\\n\\nfor i in range(1, 15):\\n        kmeans = KMeans(n_clusters=i, init=\\'k-means++\\', max_iter=300, n_init=10, random_state=42).fit(X)\\n        wcss.append(kmeans.inertia_)\\n\\nplt.plot(range(1, 15), wcss)\\nplt.title(\\'The Elbow Graph\\')\\nplt.xlabel(\\'Number of clusters\\')\\nplt.ylabel(\\'WCSS\\')\\nplt.show()\\n\\n\\nkmeans = KMeans(n_clusters=6, init=\\'k-means++\\', max_iter=300, n_init=10, random_state=0).fit(X)\\ndata[\\'clusters\\'] = kmeans.labels_\\n'"
      ]
     },
     "execution_count": 10,
     "metadata": {},
     "output_type": "execute_result"
    }
   ],
   "source": [
    "import matplotlib.pyplot as plt\n",
    "from pathlib import Path \n",
    "import pandas as pd\n",
    "import numpy as np\n",
    "import matplotlib\n",
    "import matplotlib.pyplot as plt\n",
    "%matplotlib inline\n",
    "import seaborn as sns\n",
    "from sklearn.cluster import KMeans\n",
    "\n",
    "csv = Path('Food').with_name('FOOD_FREQUENCY_ANALYSIS.CSV') #food data\n",
    "df = pd.read_csv(csv)\n",
    "\n",
    "csv1 = Path('Food').with_name('Markers.csv')  #the data we used for clustering\n",
    "dfe = pd.read_csv(csv1)\n",
    "\n",
    "df = pd.merge(df,dfe,on=\"PublicID\")\n",
    "\n",
    "#NOTE: NO IODINE MARKER IN DATA\n",
    "df = df[['PublicID', 'SubEDINScore', 'SubSTAIScore', 'Suicidality', 'CMAE04a1a', 'CMAE04a1b','CMAE04a1c','CMAE04a2a','CMAE04a2b','CMAE04a2c',\n",
    "         'DT_FOLAC','DT_IRON','DT_CALC','VITD_MCG','TOTAL_CHOLINE',\n",
    "         'DT_TOTN3','DT_THIA','DT_RIBO','DT_NIAC','DT_VITB6','DT_VB12','DT_VITC',\n",
    "         'DT_KCAL','DT_PROT','DT_CARB','DT_TFAT','DT_SFAT','DT_MFAT','DT_PFAT',\n",
    "         'DT_CHOL','DT_SODI','DT_SUG_T','DT_FIBE','DT_CAFFN','DT_ALCO',\n",
    "         'HEI1_tfr','HEI2_wfr','HEI3_veg','HEI4_dol','HEI5_tgr','HEI6_wgr','HEI7_mlk','HEI8_pro',\n",
    "         'HEI9_oil','HEI10_sfa','HEI11_sod','HEI12_fas','HEI2005_TOTAL_SCORE',\n",
    "         'HEIX1_TOTALVEG','HEIX2_GREEN_AND_BEAN','HEIX3_TOTALFRUIT','HEIX4_WHOLEFRUIT',\n",
    "         'HEIX5_WHOLEGRAIN','HEIX6_TOTALDAIRY','HEIX7_TOTPROT','HEIX8_SEAPLANT_PROT',\n",
    "         'HEIX9_FATTYACID','HEIX10_SODIUM','HEIX11_REFINEDGRAIN','HEIX12_SOFAAS',\n",
    "         'HEI2010_TOTAL_SCORE','AHEI_VEGS','AHEI_FRUITS','AHEI_WGRAINS','AHEI_SUGBEVS',\n",
    "         'AHEI_NUTLEGS','AHEI_RMEATS','AHEI_TRFATPCT','AHEI_DHAEPA',\n",
    "         'AHEI_PUFAPCT','AHEI_SODIUM','AHEI_ALCDRKS','AHEI2010']]\n",
    "\n",
    "\n",
    "\n",
    "\n",
    "\n",
    "\n",
    "\n",
    "\n",
    "'''\n",
    "X = df\n",
    "X.drop(columns=[\"PublicID\"], inplace=True)  # dropping non int columns\n",
    "X = X.fillna(0)  # Have to double check this\n",
    "data = X\n",
    "wcss = []  # sum of square\n",
    "\n",
    "for i in range(1, 15):\n",
    "        kmeans = KMeans(n_clusters=i, init='k-means++', max_iter=300, n_init=10, random_state=42).fit(X)\n",
    "        wcss.append(kmeans.inertia_)\n",
    "\n",
    "plt.plot(range(1, 15), wcss)\n",
    "plt.title('The Elbow Graph')\n",
    "plt.xlabel('Number of clusters')\n",
    "plt.ylabel('WCSS')\n",
    "plt.show()\n",
    "\n",
    "\n",
    "kmeans = KMeans(n_clusters=6, init='k-means++', max_iter=300, n_init=10, random_state=0).fit(X)\n",
    "data['clusters'] = kmeans.labels_\n",
    "'''\n",
    "\n",
    "\n"
   ]
  }
 ],
 "metadata": {
  "kernelspec": {
   "display_name": "Python 3",
   "language": "python",
   "name": "python3"
  },
  "language_info": {
   "codemirror_mode": {
    "name": "ipython",
    "version": 3
   },
   "file_extension": ".py",
   "mimetype": "text/x-python",
   "name": "python",
   "nbconvert_exporter": "python",
   "pygments_lexer": "ipython3",
   "version": "3.11.0"
  },
  "orig_nbformat": 4,
  "vscode": {
   "interpreter": {
    "hash": "c261aea317cc0286b3b3261fbba9abdec21eaa57589985bb7a274bf54d6cc0a7"
   }
  }
 },
 "nbformat": 4,
 "nbformat_minor": 2
}
