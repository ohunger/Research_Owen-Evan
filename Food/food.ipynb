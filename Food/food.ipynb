{
 "cells": [
  {
   "cell_type": "code",
   "execution_count": 3,
   "metadata": {},
   "outputs": [
    {
     "name": "stdout",
     "output_type": "stream",
     "text": [
      "          DT_FOLAC      DT_IRON      DT_CALC     VITD_MCG  TOTAL_CHOLINE  \\\n",
      "count  7679.000000  7679.000000  7679.000000  7679.000000    7679.000000   \n",
      "mean    148.419599    12.324040   812.193702     3.776069     259.175018   \n",
      "std     113.159245     6.734067   425.664200     2.679251     141.243559   \n",
      "min       1.890000     0.236000    18.180000     0.050800       6.520000   \n",
      "25%      76.675000     8.290000   531.980000     1.940000     173.015000   \n",
      "50%     119.170000    11.080000   730.610000     3.070000     233.320000   \n",
      "75%     186.175000    14.670000   990.245000     4.800000     310.740000   \n",
      "max    1468.750000   115.990000  5774.600000    22.910000    2660.140000   \n",
      "\n",
      "          DT_TOTN3      DT_THIA      DT_RIBO      DT_NIAC     DT_VITB6  ...  \\\n",
      "count  7679.000000  7679.000000  7679.000000  7679.000000  7679.000000  ...   \n",
      "mean      1.413649     1.365929     1.821742    18.257783     1.693678  ...   \n",
      "std       0.931168     0.779261     0.935661    10.941728     0.932723  ...   \n",
      "min       0.011800     0.024900     0.041500     0.241000     0.023700  ...   \n",
      "25%       0.863000     0.908000     1.240000    11.860000     1.120000  ...   \n",
      "50%       1.200000     1.210000     1.660000    16.030000     1.520000  ...   \n",
      "75%       1.690000     1.620000     2.200000    21.765000     2.040000  ...   \n",
      "max      13.200000    12.950000    14.240000   200.120000    14.580000  ...   \n",
      "\n",
      "       AHEI_WGRAINS  AHEI_SUGBEVS  AHEI_NUTLEGS  AHEI_RMEATS  AHEI_TRFATPCT  \\\n",
      "count   7679.000000   7679.000000   7679.000000  7679.000000    7679.000000   \n",
      "mean       2.034833      3.180112      5.145915     6.072364       8.144449   \n",
      "std        1.541047      3.716945      3.304136     2.821375       1.150016   \n",
      "min        0.000000      0.000000      0.002010     0.000000       0.000000   \n",
      "25%        0.878000      0.000000      2.200500     4.492161       7.535927   \n",
      "50%        1.676000      0.503968      4.420000     6.755283       8.286179   \n",
      "75%        2.800000      6.804674      8.469500     8.241309       8.945979   \n",
      "max       10.000000     10.000000     10.000000    10.000000      10.000000   \n",
      "\n",
      "       AHEI_DHAEPA  AHEI_PUFAPCT  AHEI_SODIUM  AHEI_ALCDRKS     AHEI2010  \n",
      "count  7679.000000   7679.000000  7679.000000   7679.000000  7679.000000  \n",
      "mean      3.879591      6.484157     6.017273      5.091158    55.054562  \n",
      "std       3.155703      1.860909     3.376610      3.033657    12.470963  \n",
      "min       0.003936      0.000000     0.000000      0.000000    22.408871  \n",
      "25%       1.272000      5.151821     3.567207      2.500000    45.796762  \n",
      "50%       2.848000      6.352342     6.680973      5.000000    54.541752  \n",
      "75%       5.900000      7.737778     9.044422      5.000000    63.561462  \n",
      "max      10.000000     10.000000    10.000000     10.000000    96.854909  \n",
      "\n",
      "[8 rows x 63 columns]\n"
     ]
    },
    {
     "name": "stderr",
     "output_type": "stream",
     "text": [
      "C:\\Users\\Masuri\\AppData\\Local\\Temp\\ipykernel_10064\\2571344821.py:8: DtypeWarning: Columns (15,337,353,359,361,363,401,405,437,484,544,560) have mixed types. Specify dtype option on import or set low_memory=False.\n",
      "  df = pd.read_csv(csv)\n"
     ]
    }
   ],
   "source": [
    "import matplotlib.pyplot as plt\n",
    "from pathlib import Path \n",
    "from sklearn.preprocessing import StandardScaler\n",
    "from sklearn.decomposition import PCA\n",
    "import pandas as pd\n",
    "\n",
    "csv = Path('Food').with_name('FOOD_FREQUENCY_ANALYSIS.CSV')\n",
    "df = pd.read_csv(csv)\n",
    "\n",
    "#NOTE: NO IODINE MARKER IN DATA\n",
    "df = df[['DT_FOLAC','DT_IRON','DT_CALC','VITD_MCG','TOTAL_CHOLINE',\n",
    "         'DT_TOTN3','DT_THIA','DT_RIBO','DT_NIAC','DT_VITB6','DT_VB12','DT_VITC',\n",
    "         'DT_KCAL','DT_PROT','DT_CARB','DT_TFAT','DT_SFAT','DT_MFAT','DT_PFAT',\n",
    "         'DT_CHOL','DT_SODI','DT_SUG_T','DT_FIBE','DT_CAFFN','DT_ALCO',\n",
    "         'HEI1_tfr','HEI2_wfr','HEI3_veg','HEI4_dol','HEI5_tgr','HEI6_wgr','HEI7_mlk','HEI8_pro',\n",
    "         'HEI9_oil','HEI10_sfa','HEI11_sod','HEI12_fas','HEI2005_TOTAL_SCORE',\n",
    "         'HEIX1_TOTALVEG','HEIX2_GREEN_AND_BEAN','HEIX3_TOTALFRUIT','HEIX4_WHOLEFRUIT',\n",
    "         'HEIX5_WHOLEGRAIN','HEIX6_TOTALDAIRY','HEIX7_TOTPROT','HEIX8_SEAPLANT_PROT',\n",
    "         'HEIX9_FATTYACID','HEIX10_SODIUM','HEIX11_REFINEDGRAIN','HEIX12_SOFAAS',\n",
    "         'HEI2010_TOTAL_SCORE','AHEI_VEGS','AHEI_FRUITS','AHEI_WGRAINS','AHEI_SUGBEVS',\n",
    "         'AHEI_NUTLEGS','AHEI_RMEATS','AHEI_TRFATPCT','AHEI_DHAEPA',\n",
    "         'AHEI_PUFAPCT','AHEI_SODIUM','AHEI_ALCDRKS','AHEI2010']]\n",
    "\n",
    "\n",
    "\n",
    "\n"
   ]
  }
 ],
 "metadata": {
  "kernelspec": {
   "display_name": "Python 3",
   "language": "python",
   "name": "python3"
  },
  "language_info": {
   "codemirror_mode": {
    "name": "ipython",
    "version": 3
   },
   "file_extension": ".py",
   "mimetype": "text/x-python",
   "name": "python",
   "nbconvert_exporter": "python",
   "pygments_lexer": "ipython3",
   "version": "3.11.0"
  },
  "orig_nbformat": 4,
  "vscode": {
   "interpreter": {
    "hash": "c261aea317cc0286b3b3261fbba9abdec21eaa57589985bb7a274bf54d6cc0a7"
   }
  }
 },
 "nbformat": 4,
 "nbformat_minor": 2
}
