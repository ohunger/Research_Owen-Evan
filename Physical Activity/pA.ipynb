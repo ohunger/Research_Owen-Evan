{
 "cells": [
  {
   "cell_type": "code",
   "execution_count": 7,
   "metadata": {},
   "outputs": [
    {
     "name": "stderr",
     "output_type": "stream",
     "text": [
      "/var/folders/pw/xkpd454x6_ddjhgkzcvrngc40000gn/T/ipykernel_80967/1807975831.py:13: DtypeWarning: Columns (8,23,30,38,40,49,70,71,72,73,74,75,78,93,100,109,111,112,120,142,148,149,150,151,152,154,155,156,159,161,162,163,164,165,166,168,169,173,174,175,176,177,178,180,181,258,259,260,261,262,266,267,268,269,284,295,300,301,307,308) have mixed types. Specify dtype option on import or set low_memory=False.\n",
      "  df1 = pd.read_csv('V2A.CSV')\n",
      "/var/folders/pw/xkpd454x6_ddjhgkzcvrngc40000gn/T/ipykernel_80967/1807975831.py:14: DtypeWarning: Columns (7,22,51,52,53,54,55,57,58,59,60,62,63,64,65,66,67,68,71,72,73,74,89,103,109,116) have mixed types. Specify dtype option on import or set low_memory=False.\n",
      "  df2 = pd.read_csv('V3A.CSV')\n"
     ]
    }
   ],
   "source": [
    "# Import libraries\n",
    "import pandas as pd\n",
    "import numpy as np\n",
    "import matplotlib.pyplot as plt\n",
    "from sklearn.cluster import KMeans\n",
    "import seaborn as sns\n",
    "from pathlib import Path \n",
    "\n",
    "# Set matplotlib to inline\n",
    "%matplotlib inline\n",
    "\n",
    "# Load data\n",
    "df1 = pd.read_csv('V2A.CSV')\n",
    "df2 = pd.read_csv('V3A.CSV')\n",
    "\n",
    "# Merge data\n",
    "df = pd.merge(df1, df2, on=\"PublicID\")\n",
    "\n",
    "# Define columns of interest\n",
    "columns_of_interest = [\n",
    "    'V2AJ01',\n",
    "    'V2AJ01a_SP',\n",
    "    'V2AJ01a',\n",
    "    'V2AJ01a1',\n",
    "    'V2AJ01a2',\n",
    "    'V2AJ01a3',\n",
    "    'V2AJ02',\n",
    "    'V2AJ02a_SP',\n",
    "    'V2AJ02a',\n",
    "    'V2AJ02a1',\n",
    "    'V2AJ02a2',\n",
    "    'V2AJ02a3',\n",
    "    'V2AJ03',\n",
    "    'V2AJ03a_SP',\n",
    "    'V2AJ03a',\n",
    "    'V2AJ03a1',\n",
    "    'V2AJ03a2',\n",
    "    'V2AJ03a3',\n",
    "    'V3AH01',\n",
    "    'V3AH01a',\n",
    "    'V3AH01a_SP',\n",
    "    'V3AH01a1',\n",
    "    'V3AH01a2',\n",
    "    'V3AH01a3',\n",
    "    'V3AH02',\n",
    "    'V3AH02a',\n",
    "    'V3AH02a_SP',\n",
    "    'V3AH02a1',\n",
    "    'V3AH02a2',\n",
    "    'V3AH02a3',\n",
    "    'V3AH03',\n",
    "    'V3AH03a',\n",
    "    'V3AH03a_SP',\n",
    "    'V3AH03a1',\n",
    "    'V3AH03a2',\n",
    "    'V3AH03a3'\n",
    "]\n",
    "\n",
    "df[columns_of_interest].head()\n",
    "\n",
    "#common_public_ids = df1['PublicID'].isin(df2['PublicID']).sum()\n",
    "#print(\"Number of common Public IDs:\", common_public_ids)\n",
    "\n",
    "'''for column in columns_of_interest:\n",
    "    # Try to convert column to numeric data\n",
    "    df[column] = pd.to_numeric(df[column], errors='coerce')\n",
    "\n",
    "    # If column contains only NaN values after conversion, it's non-numeric and should be skipped\n",
    "    if df[column].isna().all():\n",
    "        print(f\"Skipping non-numeric column: {column}\")\n",
    "        continue\n",
    "\n",
    "    # Create and display the plot\n",
    "    plt.figure(figsize=(8,6))\n",
    "    plt.scatter(df['PublicID'], df[column])\n",
    "    plt.title(f\"{column} vs PublicID\")\n",
    "    plt.xlabel('PublicID')\n",
    "    plt.ylabel(column)\n",
    "    plt.show() '''\n",
    "\n",
    "    "
   ]
  }
 ],
 "metadata": {
  "interpreter": {
   "hash": "aee8b7b246df8f9039afb4144a1f6fd8d2ca17a180786b69acc140d282b71a49"
  },
  "kernelspec": {
   "display_name": "Python 3.11.0 64-bit",
   "language": "python",
   "name": "python3"
  },
  "language_info": {
   "codemirror_mode": {
    "name": "ipython",
    "version": 3
   },
   "file_extension": ".py",
   "mimetype": "text/x-python",
   "name": "python",
   "nbconvert_exporter": "python",
   "pygments_lexer": "ipython3",
   "version": "3.11.0"
  },
  "orig_nbformat": 4
 },
 "nbformat": 4,
 "nbformat_minor": 2
}
