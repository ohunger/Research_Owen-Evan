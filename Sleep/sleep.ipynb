{
 "cells": [
  {
   "cell_type": "code",
   "execution_count": null,
   "metadata": {},
   "outputs": [],
   "source": [
    "import matplotlib.pyplot as plt\n",
    "from pathlib import Path \n",
    "import pandas as pd\n",
    "import numpy as np\n",
    "import matplotlib\n",
    "import matplotlib.pyplot as plt\n",
    "%matplotlib inline\n",
    "#import seaborn as sns\n",
    "from sklearn.cluster import KMeans\n",
    "csv = Path('Sleep').with_name('SLEEP_ACTIGRAPHY_MODIFIED.CSV') #modified\n",
    "df = pd.read_csv(csv)\n",
    "\n",
    "csv1 = Path('Sleep').with_name('SLEEP_ACTIGRAPHY.CSV') #unmodified actigraphy\n",
    "dfe = pd.read_csv(csv1)\n",
    "\n",
    "csv2 = Path('Sleep').with_name('V1F.CSV') #unmodified actigraphy\n",
    "dfe = pd.read_csv(csv2)\n",
    "\n",
    "df = pd.merge(df,dfe,on=\"PublicID\")\n",
    "dcopy = df"
   ]
  }
 ],
 "metadata": {
  "language_info": {
   "name": "python"
  },
  "orig_nbformat": 4
 },
 "nbformat": 4,
 "nbformat_minor": 2
}
