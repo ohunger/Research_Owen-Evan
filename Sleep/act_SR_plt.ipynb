{
 "cells": [
  {
   "cell_type": "code",
   "execution_count": 8,
   "metadata": {},
   "outputs": [
    {
     "name": "stdout",
     "output_type": "stream",
     "text": [
      "Common PublicIDs found:\n",
      "15617T\n",
      "04943R\n",
      "15172I\n",
      "10563S\n",
      "15014D\n"
     ]
    },
    {
     "data": {
      "text/plain": [
       "\"\\n# Specify the columns of interest\\ncolumns_of_interest = ['PublicID', 'V1FA02a']\\ncolumns_of_interest2 = ['PublicID', 'rest_dur_avg_all_Mod']\\n\\n# Extract the columns of interest\\ndf1_interest = df1[columns_of_interest2].copy()\\ndf2_interest = df2[columns_of_interest].copy()\\n\\n# Convert columns to numeric type\\ndf2_interest['V1FA02a'] = pd.to_numeric(df2_interest['V1FA02a'], errors='coerce')\\ndf1_interest['rest_dur_avg_all_Mod'] = pd.to_numeric(df1_interest['rest_dur_avg_all_Mod'], errors='coerce')\\n\\n# Drop rows with missing values\\ndf2_interest.dropna(subset=['V1FA02a'], inplace=True)\\ndf1_interest.dropna(subset=['rest_dur_avg_all_Mod'], inplace=True)\\n\\n# Plot the graph\\nplt.scatter(df2_interest['V1FA02a'], df1_interest['rest_dur_avg_all_Mod'])\\nplt.xlabel('V1FA02a')\\nplt.ylabel('rest_dur_avg_all_Mod')\\nplt.title('Comparison of V1FA02a and rest_dur_avg_all_Mod')\\nplt.show() \\n\""
      ]
     },
     "execution_count": 8,
     "metadata": {},
     "output_type": "execute_result"
    }
   ],
   "source": [
    "import matplotlib.pyplot as plt\n",
    "import pandas as pd\n",
    "\n",
    "# Read the CSV files\n",
    "df1 = pd.read_csv('SLEEP_ACTIGRAPHY_MODIFIED.CSV')\n",
    "df2 = pd.read_csv('V1F.CSV')\n",
    "\n",
    "# Extract the 'PublicID' columns from each dataframe\n",
    "public_ids_df1 = set(df1['PublicID'])\n",
    "public_ids_df2 = set(df2['PublicID'])\n",
    "\n",
    "# Find the common 'PublicID' values\n",
    "common_public_ids = public_ids_df1.intersection(public_ids_df2)\n",
    "\n",
    "# Check if any common 'PublicID' values exist\n",
    "if len(common_public_ids) > 0:\n",
    "    print(\"Common PublicIDs found:\")\n",
    "    for public_id in common_public_ids:\n",
    "        print(public_id)\n",
    "else:\n",
    "    print(\"No common PublicIDs found.\")\n",
    "\n",
    "\n",
    "#CONCLUDED THAT ONLY 5 COMMON PUBLIC IDS WERE FOUND"
   ]
  }
 ],
 "metadata": {
  "interpreter": {
   "hash": "aee8b7b246df8f9039afb4144a1f6fd8d2ca17a180786b69acc140d282b71a49"
  },
  "kernelspec": {
   "display_name": "Python 3.11.0 64-bit",
   "language": "python",
   "name": "python3"
  },
  "language_info": {
   "codemirror_mode": {
    "name": "ipython",
    "version": 3
   },
   "file_extension": ".py",
   "mimetype": "text/x-python",
   "name": "python",
   "nbconvert_exporter": "python",
   "pygments_lexer": "ipython3",
   "version": "3.11.0"
  },
  "orig_nbformat": 4
 },
 "nbformat": 4,
 "nbformat_minor": 2
}
